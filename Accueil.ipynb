{
 "cells": [
  {
   "cell_type": "markdown",
   "metadata": {},
   "source": [
    "# SCIENCES NUMÉRIQUES ET TECHNOLOGIE (SNT)\n",
    "\n",
    "Voici le fichier principal de la première séquence sur la programmation **Python**.\n",
    "\n",
    "<IMG SRC=\"python.png\" width=\"150\">\n",
    "\n",
    "À partir de ce fichier, vous pouvez accéder rapidement à tous les exercices.\n",
    "\n",
    "Nous allons utiliser jupyter qui permet d'avoir dans un fichier html des véritables morceaux de Python.\n",
    "\n",
    "<table><tr><td>Tout repose sur cette barre d'icônes</td><td> <IMG SRC=\"run.png\"></td><td> en haut de cette page.</td></tr>\n",
    "<tr><td></td><td>**run cell, interrupt kernel, restart kernel**</td><td></td></tr></table>\n",
    "\n",
    "L'icône **run cell**, qui est la plus à gauche dans la barre, permet de faire fonctionner une cellule (paragraphe)\n",
    "\n",
    "- Elle permet d'exécuter du code source Python (code).\n",
    "- Elle permet d'afficher correctement les paragraphes d'explications (markdown)\n",
    "\n",
    "L'icône **interrupt kernel**, qui est au centre dans la barre, permet d'arrêter du code Python \"planté\".\n",
    "\n",
    "L'icône **restart kernel**, qui est la plus à droite dans la barre, permet de remettre Python à zéro."
   ]
  },
  {
   "cell_type": "markdown",
   "metadata": {},
   "source": [
    "## Liste des séances\n",
    "\n",
    "[Séance 1](fichiers/ModulePython1.ipynb) : Ce lien vous emmène vers la première séance entrée/sorties.\n",
    "\n",
    "[Séance 2](fichiers/ModulePython2.ipynb) : Ce lien vous emmène vers la séance suivante :\n",
    "\n",
    "[Séance 3](fichiers/ModulePython3.ipynb) : Ce lien vous emmène vers les boucles \"bornée\" (pour).\n",
    "\n",
    "[Séance 4](fichiers/ModulePython3.ipynb) : Ce lien vous emmène vers les boucles \"non bornée\" (tant que).\n",
    "\n",
    "[Séance 5](fichiers/ModulePython3.ipynb) : Ce lien vous emmène vers la notion de fonction."
   ]
  },
  {
   "cell_type": "code",
   "execution_count": null,
   "metadata": {},
   "outputs": [],
   "source": []
  }
 ],
 "metadata": {
  "kernelspec": {
   "display_name": "Python 3",
   "language": "python",
   "name": "python3"
  },
  "language_info": {
   "codemirror_mode": {
    "name": "ipython",
    "version": 3
   },
   "file_extension": ".py",
   "mimetype": "text/x-python",
   "name": "python",
   "nbconvert_exporter": "python",
   "pygments_lexer": "ipython3",
   "version": "3.7.0"
  }
 },
 "nbformat": 4,
 "nbformat_minor": 2
}
